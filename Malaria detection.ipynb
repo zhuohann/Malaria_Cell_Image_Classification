{
 "cells": [
  {
   "cell_type": "code",
   "execution_count": 1,
   "metadata": {},
   "outputs": [],
   "source": [
    "import os\n",
    "from torchvision import datasets, transforms, models\n",
    "import torch\n",
    "from torch import nn\n",
    "from torch import optim\n",
    "import torch.nn.functional as F\n",
    "import matplotlib.pyplot as plt\n",
    "import numpy as np\n",
    "import helper\n",
    "train_transforms = transforms.Compose([transforms.Resize(100),\n",
    "                                       transforms.CenterCrop(100),\n",
    "                                       transforms.RandomHorizontalFlip(),\n",
    "                                       transforms.ToTensor(),\n",
    "                                       transforms.Normalize([0.485, 0.456, 0.406],\n",
    "                                                            [0.229, 0.224, 0.2205])])\n",
    "valid_transforms = transforms.Compose([transforms.Resize(100),\n",
    "                                       transforms.CenterCrop(100),\n",
    "                                       transforms.RandomHorizontalFlip(),\n",
    "                                       transforms.ToTensor(),\n",
    "                                       transforms.Normalize([0.485, 0.456, 0.406],\n",
    "                                                            [0.229, 0.224, 0.2205])])\n",
    "train_data = datasets.ImageFolder('train', transform=train_transforms)\n",
    "test_data = datasets.ImageFolder('valid', transform=valid_transforms)\n",
    "valid_data = datasets.ImageFolder('test', transform=valid_transforms)\n"
   ]
  },
  {
   "cell_type": "code",
   "execution_count": 2,
   "metadata": {},
   "outputs": [
    {
     "name": "stderr",
     "output_type": "stream",
     "text": [
      "Clipping input data to the valid range for imshow with RGB data ([0..1] for floats or [0..255] for integers).\n",
      "Downloading: \"https://download.pytorch.org/models/vgg16-397923af.pth\" to C:\\Users\\zchea/.torch\\models\\vgg16-397923af.pth\n",
      "553433881it [01:24, 6582481.95it/s] \n"
     ]
    },
    {
     "data": {
      "image/png": "[encoded data removed]",
      "text/plain": [
       "<Figure size 432x288 with 1 Axes>"
      ]
     },
     "metadata": {
      "needs_background": "light"
     },
     "output_type": "display_data"
    }
   ],
   "source": [
    "\n",
    "trainloader = torch.utils.data.DataLoader(train_data, batch_size=64, shuffle=True)\n",
    "testloader = torch.utils.data.DataLoader(test_data, batch_size=64)\n",
    "validloader = torch.utils.data.DataLoader(valid_data, batch_size=64)\n",
    "images, labels = next(iter(trainloader))\n",
    "#images, labels = trainloader\n",
    "helper.imshow(images[0], normalize=False)\n",
    "device = torch.device(\"cuda\" if torch.cuda.is_available() else \"cpu\")\n",
    "model = models.vgg16(pretrained=True)"
   ]
  },
  {
   "cell_type": "code",
   "execution_count": 5,
   "metadata": {},
   "outputs": [
    {
     "name": "stdout",
     "output_type": "stream",
     "text": [
      "Epoch 1/1.. Train loss: 5.399.. Validation loss: 1.063.. Validation accuracy: 0.490\n",
      "Epoch 1/1.. Train loss: 0.591.. Validation loss: 0.463.. Validation accuracy: 0.816\n",
      "Epoch 1/1.. Train loss: 0.344.. Validation loss: 0.324.. Validation accuracy: 0.860\n",
      "Epoch 1/1.. Train loss: 0.289.. Validation loss: 0.279.. Validation accuracy: 0.879\n",
      "Epoch 1/1.. Train loss: 0.269.. Validation loss: 0.242.. Validation accuracy: 0.894\n",
      "Epoch 1/1.. Train loss: 0.254.. Validation loss: 0.249.. Validation accuracy: 0.895\n",
      "Epoch 1/1.. Train loss: 0.243.. Validation loss: 0.234.. Validation accuracy: 0.907\n",
      "Epoch 1/1.. Train loss: 0.233.. Validation loss: 0.219.. Validation accuracy: 0.909\n",
      "Epoch 1/1.. Train loss: 0.256.. Validation loss: 0.216.. Validation accuracy: 0.915\n",
      "Epoch 1/1.. Train loss: 0.214.. Validation loss: 0.224.. Validation accuracy: 0.904\n",
      "Epoch 1/1.. Train loss: 0.217.. Validation loss: 0.214.. Validation accuracy: 0.915\n",
      "Epoch 1/1.. Train loss: 0.197.. Validation loss: 0.211.. Validation accuracy: 0.917\n",
      "Epoch 1/1.. Train loss: 0.199.. Validation loss: 0.206.. Validation accuracy: 0.913\n",
      "Epoch 1/1.. Train loss: 0.208.. Validation loss: 0.229.. Validation accuracy: 0.908\n",
      "Epoch 1/1.. Train loss: 0.205.. Validation loss: 0.210.. Validation accuracy: 0.917\n",
      "Epoch 1/1.. Train loss: 0.228.. Validation loss: 0.206.. Validation accuracy: 0.916\n",
      "Epoch 1/1.. Train loss: 0.197.. Validation loss: 0.192.. Validation accuracy: 0.920\n",
      "Epoch 1/1.. Train loss: 0.241.. Validation loss: 0.211.. Validation accuracy: 0.912\n",
      "Epoch 1/1.. Train loss: 0.254.. Validation loss: 0.255.. Validation accuracy: 0.892\n",
      "Epoch 1/1.. Train loss: 0.225.. Validation loss: 0.193.. Validation accuracy: 0.922\n",
      "Epoch 1/1.. Train loss: 0.254.. Validation loss: 0.203.. Validation accuracy: 0.918\n",
      "Epoch 1/1.. Train loss: 0.224.. Validation loss: 0.205.. Validation accuracy: 0.921\n",
      "Epoch 1/1.. Train loss: 0.185.. Validation loss: 0.210.. Validation accuracy: 0.914\n",
      "Epoch 1/1.. Train loss: 0.173.. Validation loss: 0.186.. Validation accuracy: 0.924\n",
      "Epoch 1/1.. Train loss: 0.183.. Validation loss: 0.201.. Validation accuracy: 0.917\n",
      "Epoch 1/1.. Train loss: 0.212.. Validation loss: 0.209.. Validation accuracy: 0.918\n",
      "Epoch 1/1.. Train loss: 0.221.. Validation loss: 0.187.. Validation accuracy: 0.923\n",
      "Epoch 1/1.. Train loss: 0.204.. Validation loss: 0.190.. Validation accuracy: 0.928\n",
      "Epoch 1/1.. Train loss: 0.190.. Validation loss: 0.250.. Validation accuracy: 0.903\n",
      "Epoch 1/1.. Train loss: 0.241.. Validation loss: 0.207.. Validation accuracy: 0.913\n",
      "Epoch 1/1.. Train loss: 0.209.. Validation loss: 0.185.. Validation accuracy: 0.929\n",
      "Epoch 1/1.. Train loss: 0.194.. Validation loss: 0.187.. Validation accuracy: 0.926\n",
      "Epoch 1/1.. Train loss: 0.168.. Validation loss: 0.193.. Validation accuracy: 0.919\n",
      "Epoch 1/1.. Train loss: 0.212.. Validation loss: 0.192.. Validation accuracy: 0.922\n"
     ]
    }
   ],
   "source": [
    "for param in model.parameters():\n",
    "    param.requires_grad = False\n",
    "\n",
    "model.classifier = nn.Sequential(nn.Linear(25088, 4096),\n",
    "                                 nn.ReLU(),\n",
    "                                 nn.Linear(4096, 2048),\n",
    "                                 nn.ReLU(),\n",
    "                                 nn.Dropout(0.2),\n",
    "                                 nn.Linear(2048, 2),\n",
    "                                 nn.LogSoftmax(dim=1))\n",
    "criterion = nn.NLLLoss()\n",
    "\n",
    "optimizer = optim.Adam(model.classifier.parameters(), lr=0.0005)\n",
    "model.to(device)\n",
    "\n",
    "epochs = 1\n",
    "steps = 0\n",
    "running_loss = 0\n",
    "print_every = 10\n",
    "\n",
    "for epoch in range(epochs):\n",
    "\n",
    "    for inputs, labels in trainloader:\n",
    "        steps += 1\n",
    "        inputs, labels = inputs.to(device), labels.to(device)\n",
    "        \n",
    "        optimizer.zero_grad()\n",
    "        \n",
    "        logps = model.forward(inputs.cuda())\n",
    "        loss = criterion(logps, labels)\n",
    "        loss.backward()\n",
    "        optimizer.step()\n",
    "\n",
    "        running_loss += loss.item()\n",
    "        \n",
    "        if steps % print_every == 0:\n",
    "            test_loss = 0\n",
    "            accuracy = 0\n",
    "            model.eval()\n",
    "            with torch.no_grad():\n",
    "                for inputs, labels in testloader:\n",
    "                    inputs, labels = inputs.to(device), labels.to(device)\n",
    "                    logps = model.forward(inputs)\n",
    "                    batch_loss = criterion(logps, labels)\n",
    "                    \n",
    "                    test_loss += batch_loss.item()\n",
    "                    \n",
    "                    # Calculate accuracy\n",
    "                    ps = torch.exp(logps)\n",
    "                    top_p, top_class = ps.topk(1, dim=1)\n",
    "                    equals = top_class == labels.view(*top_class.shape)\n",
    "                    accuracy += torch.mean(equals.type(torch.FloatTensor)).item()\n",
    "                    \n",
    "            print(f\"Epoch {epoch+1}/{epochs}.. \"\n",
    "                  f\"Train loss: {running_loss/print_every:.3f}.. \"\n",
    "                  f\"Validation loss: {test_loss/len(validloader):.3f}.. \"\n",
    "                  f\"Validation accuracy: {accuracy/len(validloader):.3f}\")\n",
    "            running_loss = 0\n",
    "            model.train()"
   ]
  },
  {
   "cell_type": "code",
   "execution_count": 6,
   "metadata": {},
   "outputs": [
    {
     "name": "stdout",
     "output_type": "stream",
     "text": [
      "92.85714285714286\n"
     ]
    }
   ],
   "source": [
    "def test(model,testset):\n",
    "    correct = 0;\n",
    "    total = 0;\n",
    "    with torch.no_grad():\n",
    "        for inputs, labels in testloader:\n",
    "            inputs, labels = inputs.to(device), labels.to(device)\n",
    "            outputs = model(inputs)\n",
    "            _, predicted = torch.max(outputs.data, 1)\n",
    "            total = total + labels.size(0)\n",
    "            correct = correct + (predicted == labels).sum().item()\n",
    "    print((correct/total)*100)\n",
    "model.to(device)\n",
    "test(model,testloader)"
   ]
  },
  {
   "cell_type": "code",
   "execution_count": 7,
   "metadata": {},
   "outputs": [],
   "source": [
    "model.class_to_idx = train_data.class_to_idx\n",
    "checkpoint = {'input_size': 25088,\n",
    "              'output_size': 102,\n",
    "              'hidden_layers': [4096,2048],\n",
    "              'class_to_idx': model.class_to_idx,\n",
    "              'state_dict': model.classifier.state_dict()}\n",
    "\n",
    "torch.save(checkpoint, 'checkpoint.pth')"
   ]
  },
  {
   "cell_type": "code",
   "execution_count": null,
   "metadata": {},
   "outputs": [],
   "source": [
    "import os\n",
    "from torchvision import datasets, transforms, models\n",
    "import torch\n",
    "from torch import nn\n",
    "from torch import optim\n",
    "import torch.nn.functional as F\n",
    "import matplotlib.pyplot as plt\n",
    "import numpy as np\n",
    "import helper\n",
    "from PIL import Image\n",
    "def predict(image_path, model, topk=5):\n",
    "    testimage = Image.open(image_path)\n",
    "    testimage = process_image(testimage)\n",
    "    testimage = torch.from_numpy(testimage).type(torch.FloatTensor)\n",
    "    testimage = testimage.unsqueeze(0)\n",
    "    logps = model(testimage)\n",
    "    #ps = torch.exp(logps)\n",
    "    #top_p, top_class = ps.topk(topk)\n",
    "    inv_class_idx = {v: k for k,v in model.class_to_idx.items()}\n",
    "    probs, inds = torch.topk(torch.exp(logps), topk, sorted=True)    \n",
    "    return [prob.item() for prob in probs[0].data], [inv_class_idx[i.item()] for i in inds[0].data]\n",
    "def load_checkpoint(filepath):\n",
    "    checkpoint = torch.load(filepath)\n",
    "    checkpoint= torch.load(filepath, map_location=lambda storage, loc: storage) # load in CPU mode   \n",
    "    model = models.vgg16(pretrained=True)\n",
    "    model.classifier = nn.Sequential(nn.Linear(checkpoint['input_size'], checkpoint['hidden_layers'][0]),\n",
    "                       nn.ReLU(),\n",
    "                       nn.Linear(checkpoint['hidden_layers'][0], checkpoint['hidden_layers'][1]),\n",
    "                       nn.ReLU(),\n",
    "                       nn.Dropout(0.2),\n",
    "                       nn.Linear(checkpoint['hidden_layers'][1], checkpoint['output_size']),\n",
    "                       nn.LogSoftmax(dim=1))\n",
    "    for param in model.parameters():\n",
    "        param.requires_grad = False\n",
    "    model.classifier.load_state_dict(checkpoint['state_dict'])\n",
    "    model.class_to_idx = checkpoint['class_to_idx']\n",
    "    \n",
    "    return model\n",
    "def process_image(pil_image):\n",
    "    mean = np.array([0.485, 0.456, 0.406])\n",
    "    std = np.array([0.229, 0.224, 0.225])\n",
    "    height = pil_image.height\n",
    "    width = pil_image.width\n",
    "    ratio_old = width/height\n",
    "    new_height = 100\n",
    "    new_width = 100\n",
    "    NewSize = (int(new_width),int(new_height))\n",
    "    pil_image.thumbnail(NewSize)\n",
    "    np_image = np.array(pil_image)\n",
    "    np_image = ((np_image/np_image.max())-mean)/std\n",
    "    np_image = np_image.transpose((2,0,1))\n",
    "    #return torch.from_numpy(np_image).type(torch.FloatTensor)\n",
    "    return np_image\n",
    "\n",
    "model = load_checkpoint(\"checkpoint.pth\")\n",
    "img_path = 'train' + '/4' + \"/0ada12c0e78f.png\"\n",
    "top_p,top_c = predict(img_path,model)"
   ]
  },
  {
   "cell_type": "code",
   "execution_count": 9,
   "metadata": {},
   "outputs": [
    {
     "name": "stdout",
     "output_type": "stream",
     "text": [
      "[0.9959256649017334, 0.0040748510509729385]\n",
      "['0', '1']\n"
     ]
    }
   ],
   "source": [
    "print(top_p)\n",
    "print(top_c)"
   ]
  },
  {
   "cell_type": "code",
   "execution_count": null,
   "metadata": {},
   "outputs": [],
   "source": []
  }
 ],
 "metadata": {
  "kernelspec": {
   "display_name": "Python 3",
   "language": "python",
   "name": "python3"
  },
  "language_info": {
   "codemirror_mode": {
    "name": "ipython",
    "version": 3
   },
   "file_extension": ".py",
   "mimetype": "text/x-python",
   "name": "python",
   "nbconvert_exporter": "python",
   "pygments_lexer": "ipython3",
   "version": "3.7.3"
  }
 },
 "nbformat": 4,
 "nbformat_minor": 2
}
